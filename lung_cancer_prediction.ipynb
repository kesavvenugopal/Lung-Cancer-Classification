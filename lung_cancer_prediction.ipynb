{
 "cells": [
  {
   "cell_type": "markdown",
   "metadata": {},
   "source": [
    "<h1>Lung Cancer Diagnosis - Machine Learning Project</h1>\n",
    "\n",
    "<p>This <b>machine learning project</b> aims to classify the likelihood of <b>lung cancer</b> in patients based on various <b>risk factors</b> and <b>medical indicators</b>. By learning from patient data, the model assists in <b>early detection</b>, which is crucial for timely treatment and improved survival rates.</p>\n",
    "\n",
    "<h2>Features of the Dataset</h2>\n",
    "<p>The dataset consists of several patient characteristics and environmental/lifestyle factors:</p>\n",
    "\n",
    "<ol>\n",
    "    <li><b>Age (years):</b> The patient's age.</li>\n",
    "    <li><b>Gender:</b> The biological sex of the patient.</li>\n",
    "    <li><b>Smoker Status:</b> Indicates if the patient is an active smoker.</li>\n",
    "    <li><b>Passive Smoker Exposure:</b> Measures secondhand smoke exposure.</li>\n",
    "    <li><b>Family History:</b> Indicates if the patient has a genetic predisposition.</li>\n",
    "    <li><b>Air Pollution Exposure:</b> Level of exposure to polluted environments.</li>\n",
    "    <li><b>Occupational Exposure:</b> Risk based on workplace hazards (e.g., chemical fumes).</li>\n",
    "    <li><b>Indoor Pollution:</b> Quality of air in the patient's living environment.</li>\n",
    "    <li><b>Healthcare Access:</b> Availability of medical care for screening and treatment.</li>\n",
    "    <li><b>Early Detection Measures:</b> Whether the patient underwent screening tests.</li>\n",
    "    <li><b>Treatment Type:</b> Type of treatment received (if applicable).</li>\n",
    "</ol>\n",
    "\n",
    "<h2>Target Variable</h2>\n",
    "<p>The <b>model predicts</b> whether a patient is diagnosed with <b>lung cancer</b>:</p>\n",
    "\n",
    "<ol>\n",
    "    <li><b>No Cancer:</b> No indications of lung cancer.</li>\n",
    "    <li><b>Lung Cancer Detected:</b> Signs of lung cancer present in the patient.</li>\n",
    "</ol>\n",
    "\n",
    "<p>This classification model provides <b>high-accuracy predictions</b>, helping in <b>early diagnosis</b> and potentially saving lives.</p>\n"
   ]
  },
  {
   "cell_type": "markdown",
   "metadata": {},
   "source": [
    "In this project, we implement 2 models, one using XGBoost Classifier and the other one using Neural Network. Here we can observe the accuracy scores of each model and evaluate based on it."
   ]
  },
  {
   "cell_type": "markdown",
   "metadata": {},
   "source": [
    "<i> Necessary imports</i>"
   ]
  },
  {
   "cell_type": "code",
   "execution_count": 3,
   "metadata": {},
   "outputs": [],
   "source": [
    "import pandas as pd\n",
    "import numpy as np\n",
    "import matplotlib.pyplot as plt\n",
    "import seaborn as sns"
   ]
  },
  {
   "cell_type": "markdown",
   "metadata": {},
   "source": [
    "Reading the dataset. It is accessed using the variable 'df'."
   ]
  },
  {
   "cell_type": "code",
   "execution_count": 4,
   "metadata": {},
   "outputs": [
    {
     "data": {
      "text/html": [
       "<div>\n",
       "<style scoped>\n",
       "    .dataframe tbody tr th:only-of-type {\n",
       "        vertical-align: middle;\n",
       "    }\n",
       "\n",
       "    .dataframe tbody tr th {\n",
       "        vertical-align: top;\n",
       "    }\n",
       "\n",
       "    .dataframe thead th {\n",
       "        text-align: right;\n",
       "    }\n",
       "</style>\n",
       "<table border=\"1\" class=\"dataframe\">\n",
       "  <thead>\n",
       "    <tr style=\"text-align: right;\">\n",
       "      <th></th>\n",
       "      <th>ID</th>\n",
       "      <th>Country</th>\n",
       "      <th>Population_Size</th>\n",
       "      <th>Age</th>\n",
       "      <th>Gender</th>\n",
       "      <th>Smoker</th>\n",
       "      <th>Years_of_Smoking</th>\n",
       "      <th>Cigarettes_per_Day</th>\n",
       "      <th>Passive_Smoker</th>\n",
       "      <th>Family_History</th>\n",
       "      <th>...</th>\n",
       "      <th>Air_Pollution_Exposure</th>\n",
       "      <th>Occupational_Exposure</th>\n",
       "      <th>Indoor_Pollution</th>\n",
       "      <th>Healthcare_Access</th>\n",
       "      <th>Early_Detection</th>\n",
       "      <th>Treatment_Type</th>\n",
       "      <th>Developed_or_Developing</th>\n",
       "      <th>Annual_Lung_Cancer_Deaths</th>\n",
       "      <th>Lung_Cancer_Prevalence_Rate</th>\n",
       "      <th>Mortality_Rate</th>\n",
       "    </tr>\n",
       "  </thead>\n",
       "  <tbody>\n",
       "    <tr>\n",
       "      <th>0</th>\n",
       "      <td>0</td>\n",
       "      <td>China</td>\n",
       "      <td>1400</td>\n",
       "      <td>80</td>\n",
       "      <td>Male</td>\n",
       "      <td>Yes</td>\n",
       "      <td>30</td>\n",
       "      <td>29</td>\n",
       "      <td>No</td>\n",
       "      <td>No</td>\n",
       "      <td>...</td>\n",
       "      <td>Low</td>\n",
       "      <td>Yes</td>\n",
       "      <td>No</td>\n",
       "      <td>Poor</td>\n",
       "      <td>No</td>\n",
       "      <td>None</td>\n",
       "      <td>Developing</td>\n",
       "      <td>690000</td>\n",
       "      <td>2.44</td>\n",
       "      <td>0.0</td>\n",
       "    </tr>\n",
       "    <tr>\n",
       "      <th>1</th>\n",
       "      <td>1</td>\n",
       "      <td>Iran</td>\n",
       "      <td>84</td>\n",
       "      <td>53</td>\n",
       "      <td>Male</td>\n",
       "      <td>No</td>\n",
       "      <td>0</td>\n",
       "      <td>0</td>\n",
       "      <td>Yes</td>\n",
       "      <td>No</td>\n",
       "      <td>...</td>\n",
       "      <td>Low</td>\n",
       "      <td>Yes</td>\n",
       "      <td>No</td>\n",
       "      <td>Poor</td>\n",
       "      <td>No</td>\n",
       "      <td>None</td>\n",
       "      <td>Developing</td>\n",
       "      <td>27000</td>\n",
       "      <td>2.10</td>\n",
       "      <td>0.0</td>\n",
       "    </tr>\n",
       "    <tr>\n",
       "      <th>2</th>\n",
       "      <td>2</td>\n",
       "      <td>Mexico</td>\n",
       "      <td>128</td>\n",
       "      <td>47</td>\n",
       "      <td>Male</td>\n",
       "      <td>Yes</td>\n",
       "      <td>12</td>\n",
       "      <td>6</td>\n",
       "      <td>Yes</td>\n",
       "      <td>No</td>\n",
       "      <td>...</td>\n",
       "      <td>Medium</td>\n",
       "      <td>No</td>\n",
       "      <td>No</td>\n",
       "      <td>Poor</td>\n",
       "      <td>Yes</td>\n",
       "      <td>None</td>\n",
       "      <td>Developing</td>\n",
       "      <td>28000</td>\n",
       "      <td>1.11</td>\n",
       "      <td>0.0</td>\n",
       "    </tr>\n",
       "    <tr>\n",
       "      <th>3</th>\n",
       "      <td>3</td>\n",
       "      <td>Indonesia</td>\n",
       "      <td>273</td>\n",
       "      <td>39</td>\n",
       "      <td>Female</td>\n",
       "      <td>No</td>\n",
       "      <td>0</td>\n",
       "      <td>0</td>\n",
       "      <td>No</td>\n",
       "      <td>Yes</td>\n",
       "      <td>...</td>\n",
       "      <td>Low</td>\n",
       "      <td>No</td>\n",
       "      <td>No</td>\n",
       "      <td>Poor</td>\n",
       "      <td>No</td>\n",
       "      <td>None</td>\n",
       "      <td>Developing</td>\n",
       "      <td>40000</td>\n",
       "      <td>0.75</td>\n",
       "      <td>0.0</td>\n",
       "    </tr>\n",
       "    <tr>\n",
       "      <th>4</th>\n",
       "      <td>4</td>\n",
       "      <td>South Africa</td>\n",
       "      <td>59</td>\n",
       "      <td>44</td>\n",
       "      <td>Female</td>\n",
       "      <td>No</td>\n",
       "      <td>0</td>\n",
       "      <td>0</td>\n",
       "      <td>Yes</td>\n",
       "      <td>No</td>\n",
       "      <td>...</td>\n",
       "      <td>Medium</td>\n",
       "      <td>Yes</td>\n",
       "      <td>No</td>\n",
       "      <td>Poor</td>\n",
       "      <td>No</td>\n",
       "      <td>None</td>\n",
       "      <td>Developing</td>\n",
       "      <td>15000</td>\n",
       "      <td>2.44</td>\n",
       "      <td>0.0</td>\n",
       "    </tr>\n",
       "  </tbody>\n",
       "</table>\n",
       "<p>5 rows × 24 columns</p>\n",
       "</div>"
      ],
      "text/plain": [
       "   ID       Country  Population_Size  Age  Gender Smoker  Years_of_Smoking  \\\n",
       "0   0         China             1400   80    Male    Yes                30   \n",
       "1   1          Iran               84   53    Male     No                 0   \n",
       "2   2        Mexico              128   47    Male    Yes                12   \n",
       "3   3     Indonesia              273   39  Female     No                 0   \n",
       "4   4  South Africa               59   44  Female     No                 0   \n",
       "\n",
       "   Cigarettes_per_Day Passive_Smoker Family_History  ...  \\\n",
       "0                  29             No             No  ...   \n",
       "1                   0            Yes             No  ...   \n",
       "2                   6            Yes             No  ...   \n",
       "3                   0             No            Yes  ...   \n",
       "4                   0            Yes             No  ...   \n",
       "\n",
       "  Air_Pollution_Exposure Occupational_Exposure  Indoor_Pollution  \\\n",
       "0                    Low                   Yes                No   \n",
       "1                    Low                   Yes                No   \n",
       "2                 Medium                    No                No   \n",
       "3                    Low                    No                No   \n",
       "4                 Medium                   Yes                No   \n",
       "\n",
       "  Healthcare_Access Early_Detection Treatment_Type Developed_or_Developing  \\\n",
       "0              Poor              No           None              Developing   \n",
       "1              Poor              No           None              Developing   \n",
       "2              Poor             Yes           None              Developing   \n",
       "3              Poor              No           None              Developing   \n",
       "4              Poor              No           None              Developing   \n",
       "\n",
       "  Annual_Lung_Cancer_Deaths Lung_Cancer_Prevalence_Rate Mortality_Rate  \n",
       "0                    690000                        2.44            0.0  \n",
       "1                     27000                        2.10            0.0  \n",
       "2                     28000                        1.11            0.0  \n",
       "3                     40000                        0.75            0.0  \n",
       "4                     15000                        2.44            0.0  \n",
       "\n",
       "[5 rows x 24 columns]"
      ]
     },
     "execution_count": 4,
     "metadata": {},
     "output_type": "execute_result"
    }
   ],
   "source": [
    "df=pd.read_csv('lung_cancer_prediction_dataset.csv')\n",
    "df.head()"
   ]
  },
  {
   "cell_type": "markdown",
   "metadata": {},
   "source": [
    "Dropping the irrelevant columns for the project."
   ]
  },
  {
   "cell_type": "code",
   "execution_count": 5,
   "metadata": {},
   "outputs": [],
   "source": [
    "df=df.drop(columns=['Country', 'ID', 'Population_Size', 'Annual_Lung_Cancer_Deaths', 'Developed_or_Developing', 'Lung_Cancer_Prevalence_Rate', 'Adenocarcinoma_Type', 'Mortality_Rate', 'Cancer_Stage', 'Survival_Years'])"
   ]
  },
  {
   "cell_type": "markdown",
   "metadata": {},
   "source": [
    "Now we do some EDA on this dataset for better understanding of the dataset."
   ]
  },
  {
   "cell_type": "code",
   "execution_count": 6,
   "metadata": {},
   "outputs": [
    {
     "name": "stdout",
     "output_type": "stream",
     "text": [
      "<class 'pandas.core.frame.DataFrame'>\n",
      "RangeIndex: 220632 entries, 0 to 220631\n",
      "Data columns (total 14 columns):\n",
      " #   Column                  Non-Null Count   Dtype \n",
      "---  ------                  --------------   ----- \n",
      " 0   Age                     220632 non-null  int64 \n",
      " 1   Gender                  220632 non-null  object\n",
      " 2   Smoker                  220632 non-null  object\n",
      " 3   Years_of_Smoking        220632 non-null  int64 \n",
      " 4   Cigarettes_per_Day      220632 non-null  int64 \n",
      " 5   Passive_Smoker          220632 non-null  object\n",
      " 6   Family_History          220632 non-null  object\n",
      " 7   Lung_Cancer_Diagnosis   220632 non-null  object\n",
      " 8   Air_Pollution_Exposure  220632 non-null  object\n",
      " 9   Occupational_Exposure   220632 non-null  object\n",
      " 10  Indoor_Pollution        220632 non-null  object\n",
      " 11  Healthcare_Access       220632 non-null  object\n",
      " 12  Early_Detection         220632 non-null  object\n",
      " 13  Treatment_Type          220632 non-null  object\n",
      "dtypes: int64(3), object(11)\n",
      "memory usage: 23.6+ MB\n"
     ]
    }
   ],
   "source": [
    "df.info()"
   ]
  },
  {
   "cell_type": "code",
   "execution_count": 7,
   "metadata": {},
   "outputs": [
    {
     "data": {
      "text/html": [
       "<div>\n",
       "<style scoped>\n",
       "    .dataframe tbody tr th:only-of-type {\n",
       "        vertical-align: middle;\n",
       "    }\n",
       "\n",
       "    .dataframe tbody tr th {\n",
       "        vertical-align: top;\n",
       "    }\n",
       "\n",
       "    .dataframe thead th {\n",
       "        text-align: right;\n",
       "    }\n",
       "</style>\n",
       "<table border=\"1\" class=\"dataframe\">\n",
       "  <thead>\n",
       "    <tr style=\"text-align: right;\">\n",
       "      <th></th>\n",
       "      <th>Age</th>\n",
       "      <th>Years_of_Smoking</th>\n",
       "      <th>Cigarettes_per_Day</th>\n",
       "    </tr>\n",
       "  </thead>\n",
       "  <tbody>\n",
       "    <tr>\n",
       "      <th>count</th>\n",
       "      <td>220632.000000</td>\n",
       "      <td>220632.000000</td>\n",
       "      <td>220632.000000</td>\n",
       "    </tr>\n",
       "    <tr>\n",
       "      <th>mean</th>\n",
       "      <td>52.518352</td>\n",
       "      <td>8.175274</td>\n",
       "      <td>7.007515</td>\n",
       "    </tr>\n",
       "    <tr>\n",
       "      <th>std</th>\n",
       "      <td>19.078215</td>\n",
       "      <td>12.377248</td>\n",
       "      <td>9.802187</td>\n",
       "    </tr>\n",
       "    <tr>\n",
       "      <th>min</th>\n",
       "      <td>20.000000</td>\n",
       "      <td>0.000000</td>\n",
       "      <td>0.000000</td>\n",
       "    </tr>\n",
       "    <tr>\n",
       "      <th>25%</th>\n",
       "      <td>36.000000</td>\n",
       "      <td>0.000000</td>\n",
       "      <td>0.000000</td>\n",
       "    </tr>\n",
       "    <tr>\n",
       "      <th>50%</th>\n",
       "      <td>53.000000</td>\n",
       "      <td>0.000000</td>\n",
       "      <td>0.000000</td>\n",
       "    </tr>\n",
       "    <tr>\n",
       "      <th>75%</th>\n",
       "      <td>69.000000</td>\n",
       "      <td>15.000000</td>\n",
       "      <td>14.000000</td>\n",
       "    </tr>\n",
       "    <tr>\n",
       "      <th>max</th>\n",
       "      <td>85.000000</td>\n",
       "      <td>40.000000</td>\n",
       "      <td>30.000000</td>\n",
       "    </tr>\n",
       "  </tbody>\n",
       "</table>\n",
       "</div>"
      ],
      "text/plain": [
       "                 Age  Years_of_Smoking  Cigarettes_per_Day\n",
       "count  220632.000000     220632.000000       220632.000000\n",
       "mean       52.518352          8.175274            7.007515\n",
       "std        19.078215         12.377248            9.802187\n",
       "min        20.000000          0.000000            0.000000\n",
       "25%        36.000000          0.000000            0.000000\n",
       "50%        53.000000          0.000000            0.000000\n",
       "75%        69.000000         15.000000           14.000000\n",
       "max        85.000000         40.000000           30.000000"
      ]
     },
     "execution_count": 7,
     "metadata": {},
     "output_type": "execute_result"
    }
   ],
   "source": [
    "df.describe()"
   ]
  },
  {
   "cell_type": "markdown",
   "metadata": {},
   "source": [
    "Finding correlation of the dataset"
   ]
  },
  {
   "cell_type": "code",
   "execution_count": 8,
   "metadata": {},
   "outputs": [
    {
     "data": {
      "text/html": [
       "<div>\n",
       "<style scoped>\n",
       "    .dataframe tbody tr th:only-of-type {\n",
       "        vertical-align: middle;\n",
       "    }\n",
       "\n",
       "    .dataframe tbody tr th {\n",
       "        vertical-align: top;\n",
       "    }\n",
       "\n",
       "    .dataframe thead th {\n",
       "        text-align: right;\n",
       "    }\n",
       "</style>\n",
       "<table border=\"1\" class=\"dataframe\">\n",
       "  <thead>\n",
       "    <tr style=\"text-align: right;\">\n",
       "      <th></th>\n",
       "      <th>Age</th>\n",
       "      <th>Years_of_Smoking</th>\n",
       "      <th>Cigarettes_per_Day</th>\n",
       "    </tr>\n",
       "  </thead>\n",
       "  <tbody>\n",
       "    <tr>\n",
       "      <th>Age</th>\n",
       "      <td>1.000000</td>\n",
       "      <td>0.002092</td>\n",
       "      <td>0.001196</td>\n",
       "    </tr>\n",
       "    <tr>\n",
       "      <th>Years_of_Smoking</th>\n",
       "      <td>0.002092</td>\n",
       "      <td>1.000000</td>\n",
       "      <td>0.708114</td>\n",
       "    </tr>\n",
       "    <tr>\n",
       "      <th>Cigarettes_per_Day</th>\n",
       "      <td>0.001196</td>\n",
       "      <td>0.708114</td>\n",
       "      <td>1.000000</td>\n",
       "    </tr>\n",
       "  </tbody>\n",
       "</table>\n",
       "</div>"
      ],
      "text/plain": [
       "                         Age  Years_of_Smoking  Cigarettes_per_Day\n",
       "Age                 1.000000          0.002092            0.001196\n",
       "Years_of_Smoking    0.002092          1.000000            0.708114\n",
       "Cigarettes_per_Day  0.001196          0.708114            1.000000"
      ]
     },
     "execution_count": 8,
     "metadata": {},
     "output_type": "execute_result"
    }
   ],
   "source": [
    "df.corr(numeric_only=True)"
   ]
  },
  {
   "cell_type": "markdown",
   "metadata": {},
   "source": [
    "Plotting the outliers in the numeric columns"
   ]
  },
  {
   "cell_type": "code",
   "execution_count": 9,
   "metadata": {},
   "outputs": [
    {
     "data": {
      "image/png": "[encoded data removed]",
      "text/plain": [
       "<Figure size 1500x1500 with 3 Axes>"
      ]
     },
     "metadata": {},
     "output_type": "display_data"
    }
   ],
   "source": [
    "cols=df.select_dtypes(include=[np.number]).columns\n",
    "\n",
    "plt.figure(figsize=(15,15))\n",
    "for count, col in enumerate(cols):\n",
    "    plt.subplot(3,2,count+1)\n",
    "    sns.boxplot(data=df, x=col)\n",
    "\n",
    "plt.show()"
   ]
  },
  {
   "cell_type": "markdown",
   "metadata": {},
   "source": [
    "Removing outliers"
   ]
  },
  {
   "cell_type": "code",
   "execution_count": 10,
   "metadata": {},
   "outputs": [
    {
     "name": "stdout",
     "output_type": "stream",
     "text": [
      "\n",
      "Original shape: (220632, 14), New shape: (213972, 14)\n"
     ]
    }
   ],
   "source": [
    "def get_whisker_bounds(df, column):\n",
    "    fig, ax = plt.subplots()\n",
    "    box = ax.boxplot(df[column].dropna(), vert=False)\n",
    "    plt.close(fig)\n",
    "\n",
    "    whiskers = [line.get_xdata()[1] for line in box['whiskers']]\n",
    "    return whiskers[0], whiskers[1]\n",
    "\n",
    "def remove_outliers_using_whiskers(df):\n",
    "    df_clean = df.copy()\n",
    "    outliers = {}\n",
    "\n",
    "    for col in df.select_dtypes(include=[np.number]).columns:\n",
    "            lower_whisker, upper_whisker = get_whisker_bounds(df, col)\n",
    "            outlier_count = ((df[col] < lower_whisker) | (df[col] > upper_whisker)).sum()\n",
    "            outliers[col] = (lower_whisker, upper_whisker, outlier_count)\n",
    "\n",
    "            df_clean = df_clean[(df_clean[col] >= lower_whisker) & (df_clean[col] <= upper_whisker)]\n",
    "\n",
    "    outliers_df = pd.DataFrame.from_dict(outliers, orient='index', columns=['Lower Whisker', 'Upper Whisker', 'No. of Outliers'])\n",
    "\n",
    "    outliers_df\n",
    "    return df_clean\n",
    "\n",
    "df_cleaned = remove_outliers_using_whiskers(df)\n",
    "print(f\"\\nOriginal shape: {df.shape}, New shape: {df_cleaned.shape}\")\n",
    "\n",
    "\n",
    "\n"
   ]
  },
  {
   "cell_type": "code",
   "execution_count": 11,
   "metadata": {},
   "outputs": [],
   "source": [
    "df=df_cleaned"
   ]
  },
  {
   "cell_type": "markdown",
   "metadata": {},
   "source": [
    "Plotting after removing outliers"
   ]
  },
  {
   "cell_type": "code",
   "execution_count": 12,
   "metadata": {},
   "outputs": [
    {
     "data": {
      "image/png": "[encoded data removed]",
      "text/plain": [
       "<Figure size 1500x1500 with 3 Axes>"
      ]
     },
     "metadata": {},
     "output_type": "display_data"
    }
   ],
   "source": [
    "cols=df.select_dtypes(include=[np.number]).columns\n",
    "\n",
    "plt.figure(figsize=(15,15))\n",
    "for count, col in enumerate(cols):\n",
    "    plt.subplot(3,2,count+1)\n",
    "    sns.boxplot(data=df, x=col)\n",
    "\n",
    "plt.show()"
   ]
  },
  {
   "cell_type": "code",
   "execution_count": 13,
   "metadata": {},
   "outputs": [
    {
     "name": "stdout",
     "output_type": "stream",
     "text": [
      "No     205471\n",
      "Yes      8501\n",
      "Name: Lung_Cancer_Diagnosis, dtype: int64\n"
     ]
    }
   ],
   "source": [
    "print(df['Lung_Cancer_Diagnosis'].value_counts())"
   ]
  },
  {
   "cell_type": "markdown",
   "metadata": {},
   "source": [
    "We see that new outliers will form when the old outliers are removed. As we are using algorithms that can handle outliers seamlessly, we won't be removing outliers further."
   ]
  },
  {
   "cell_type": "markdown",
   "metadata": {},
   "source": [
    "Now we plot the correlation matrix of the dataset."
   ]
  },
  {
   "cell_type": "code",
   "execution_count": 14,
   "metadata": {},
   "outputs": [
    {
     "data": {
      "image/png": "[encoded data removed]",
      "text/plain": [
       "<Figure size 800x600 with 2 Axes>"
      ]
     },
     "metadata": {},
     "output_type": "display_data"
    }
   ],
   "source": [
    "cols=df.select_dtypes(include=np.number)[:-1]\n",
    "cor_matrix=cols.corr()\n",
    "plt.figure(figsize=(8, 6))\n",
    "sns.heatmap(cor_matrix, annot=True, cmap='coolwarm', fmt=\".2f\", linewidths=0.5)\n",
    "\n",
    "\n",
    "plt.title(\"Correlation Heatmap of Numerical Features\")\n",
    "plt.show()"
   ]
  },
  {
   "cell_type": "markdown",
   "metadata": {},
   "source": [
    "Now the dataset is ready for machine learning."
   ]
  },
  {
   "cell_type": "markdown",
   "metadata": {},
   "source": [
    "## <center>Machine Learning</center>"
   ]
  },
  {
   "cell_type": "code",
   "execution_count": 15,
   "metadata": {},
   "outputs": [
    {
     "data": {
      "text/html": [
       "<div>\n",
       "<style scoped>\n",
       "    .dataframe tbody tr th:only-of-type {\n",
       "        vertical-align: middle;\n",
       "    }\n",
       "\n",
       "    .dataframe tbody tr th {\n",
       "        vertical-align: top;\n",
       "    }\n",
       "\n",
       "    .dataframe thead th {\n",
       "        text-align: right;\n",
       "    }\n",
       "</style>\n",
       "<table border=\"1\" class=\"dataframe\">\n",
       "  <thead>\n",
       "    <tr style=\"text-align: right;\">\n",
       "      <th></th>\n",
       "      <th>Age</th>\n",
       "      <th>Gender</th>\n",
       "      <th>Smoker</th>\n",
       "      <th>Years_of_Smoking</th>\n",
       "      <th>Cigarettes_per_Day</th>\n",
       "      <th>Passive_Smoker</th>\n",
       "      <th>Family_History</th>\n",
       "      <th>Lung_Cancer_Diagnosis</th>\n",
       "      <th>Air_Pollution_Exposure</th>\n",
       "      <th>Occupational_Exposure</th>\n",
       "      <th>Indoor_Pollution</th>\n",
       "      <th>Healthcare_Access</th>\n",
       "      <th>Early_Detection</th>\n",
       "      <th>Treatment_Type</th>\n",
       "    </tr>\n",
       "  </thead>\n",
       "  <tbody>\n",
       "    <tr>\n",
       "      <th>0</th>\n",
       "      <td>80</td>\n",
       "      <td>Male</td>\n",
       "      <td>Yes</td>\n",
       "      <td>30</td>\n",
       "      <td>29</td>\n",
       "      <td>No</td>\n",
       "      <td>No</td>\n",
       "      <td>No</td>\n",
       "      <td>Low</td>\n",
       "      <td>Yes</td>\n",
       "      <td>No</td>\n",
       "      <td>Poor</td>\n",
       "      <td>No</td>\n",
       "      <td>None</td>\n",
       "    </tr>\n",
       "    <tr>\n",
       "      <th>1</th>\n",
       "      <td>53</td>\n",
       "      <td>Male</td>\n",
       "      <td>No</td>\n",
       "      <td>0</td>\n",
       "      <td>0</td>\n",
       "      <td>Yes</td>\n",
       "      <td>No</td>\n",
       "      <td>No</td>\n",
       "      <td>Low</td>\n",
       "      <td>Yes</td>\n",
       "      <td>No</td>\n",
       "      <td>Poor</td>\n",
       "      <td>No</td>\n",
       "      <td>None</td>\n",
       "    </tr>\n",
       "    <tr>\n",
       "      <th>2</th>\n",
       "      <td>47</td>\n",
       "      <td>Male</td>\n",
       "      <td>Yes</td>\n",
       "      <td>12</td>\n",
       "      <td>6</td>\n",
       "      <td>Yes</td>\n",
       "      <td>No</td>\n",
       "      <td>No</td>\n",
       "      <td>Medium</td>\n",
       "      <td>No</td>\n",
       "      <td>No</td>\n",
       "      <td>Poor</td>\n",
       "      <td>Yes</td>\n",
       "      <td>None</td>\n",
       "    </tr>\n",
       "    <tr>\n",
       "      <th>3</th>\n",
       "      <td>39</td>\n",
       "      <td>Female</td>\n",
       "      <td>No</td>\n",
       "      <td>0</td>\n",
       "      <td>0</td>\n",
       "      <td>No</td>\n",
       "      <td>Yes</td>\n",
       "      <td>No</td>\n",
       "      <td>Low</td>\n",
       "      <td>No</td>\n",
       "      <td>No</td>\n",
       "      <td>Poor</td>\n",
       "      <td>No</td>\n",
       "      <td>None</td>\n",
       "    </tr>\n",
       "    <tr>\n",
       "      <th>4</th>\n",
       "      <td>44</td>\n",
       "      <td>Female</td>\n",
       "      <td>No</td>\n",
       "      <td>0</td>\n",
       "      <td>0</td>\n",
       "      <td>Yes</td>\n",
       "      <td>No</td>\n",
       "      <td>No</td>\n",
       "      <td>Medium</td>\n",
       "      <td>Yes</td>\n",
       "      <td>No</td>\n",
       "      <td>Poor</td>\n",
       "      <td>No</td>\n",
       "      <td>None</td>\n",
       "    </tr>\n",
       "  </tbody>\n",
       "</table>\n",
       "</div>"
      ],
      "text/plain": [
       "   Age  Gender Smoker  Years_of_Smoking  Cigarettes_per_Day Passive_Smoker  \\\n",
       "0   80    Male    Yes                30                  29             No   \n",
       "1   53    Male     No                 0                   0            Yes   \n",
       "2   47    Male    Yes                12                   6            Yes   \n",
       "3   39  Female     No                 0                   0             No   \n",
       "4   44  Female     No                 0                   0            Yes   \n",
       "\n",
       "  Family_History Lung_Cancer_Diagnosis Air_Pollution_Exposure  \\\n",
       "0             No                    No                    Low   \n",
       "1             No                    No                    Low   \n",
       "2             No                    No                 Medium   \n",
       "3            Yes                    No                    Low   \n",
       "4             No                    No                 Medium   \n",
       "\n",
       "  Occupational_Exposure Indoor_Pollution Healthcare_Access Early_Detection  \\\n",
       "0                   Yes               No              Poor              No   \n",
       "1                   Yes               No              Poor              No   \n",
       "2                    No               No              Poor             Yes   \n",
       "3                    No               No              Poor              No   \n",
       "4                   Yes               No              Poor              No   \n",
       "\n",
       "  Treatment_Type  \n",
       "0           None  \n",
       "1           None  \n",
       "2           None  \n",
       "3           None  \n",
       "4           None  "
      ]
     },
     "execution_count": 15,
     "metadata": {},
     "output_type": "execute_result"
    }
   ],
   "source": [
    "df.head()"
   ]
  },
  {
   "cell_type": "markdown",
   "metadata": {},
   "source": [
    "Splitting the dataset into feature and target datasets."
   ]
  },
  {
   "cell_type": "code",
   "execution_count": 16,
   "metadata": {},
   "outputs": [
    {
     "data": {
      "text/html": [
       "<div>\n",
       "<style scoped>\n",
       "    .dataframe tbody tr th:only-of-type {\n",
       "        vertical-align: middle;\n",
       "    }\n",
       "\n",
       "    .dataframe tbody tr th {\n",
       "        vertical-align: top;\n",
       "    }\n",
       "\n",
       "    .dataframe thead th {\n",
       "        text-align: right;\n",
       "    }\n",
       "</style>\n",
       "<table border=\"1\" class=\"dataframe\">\n",
       "  <thead>\n",
       "    <tr style=\"text-align: right;\">\n",
       "      <th></th>\n",
       "      <th>Lung_Cancer_Diagnosis</th>\n",
       "    </tr>\n",
       "  </thead>\n",
       "  <tbody>\n",
       "    <tr>\n",
       "      <th>0</th>\n",
       "      <td>No</td>\n",
       "    </tr>\n",
       "    <tr>\n",
       "      <th>1</th>\n",
       "      <td>No</td>\n",
       "    </tr>\n",
       "    <tr>\n",
       "      <th>2</th>\n",
       "      <td>No</td>\n",
       "    </tr>\n",
       "    <tr>\n",
       "      <th>3</th>\n",
       "      <td>No</td>\n",
       "    </tr>\n",
       "    <tr>\n",
       "      <th>4</th>\n",
       "      <td>No</td>\n",
       "    </tr>\n",
       "  </tbody>\n",
       "</table>\n",
       "</div>"
      ],
      "text/plain": [
       "  Lung_Cancer_Diagnosis\n",
       "0                    No\n",
       "1                    No\n",
       "2                    No\n",
       "3                    No\n",
       "4                    No"
      ]
     },
     "execution_count": 16,
     "metadata": {},
     "output_type": "execute_result"
    }
   ],
   "source": [
    "y=df['Lung_Cancer_Diagnosis']\n",
    "X=df.drop(columns='Lung_Cancer_Diagnosis')\n",
    "\n",
    "pd.DataFrame(X).head()\n",
    "pd.DataFrame(y).head()"
   ]
  },
  {
   "cell_type": "markdown",
   "metadata": {},
   "source": [
    "Necessary imports for machine learning."
   ]
  },
  {
   "cell_type": "code",
   "execution_count": 17,
   "metadata": {},
   "outputs": [],
   "source": [
    "import xgboost as xgb\n",
    "from sklearn.model_selection import train_test_split, RandomizedSearchCV\n",
    "from sklearn.preprocessing import LabelEncoder, OneHotEncoder\n",
    "from sklearn.compose import ColumnTransformer\n",
    "from sklearn.metrics import accuracy_score\n",
    "from imblearn.pipeline import Pipeline"
   ]
  },
  {
   "cell_type": "markdown",
   "metadata": {},
   "source": [
    "Encoding the Target variable"
   ]
  },
  {
   "cell_type": "code",
   "execution_count": 18,
   "metadata": {},
   "outputs": [],
   "source": [
    "# Encode target column (Convert 'Yes'/'No' to 1/0)\n",
    "y = y.map({'No': 0, 'Yes': 1})"
   ]
  },
  {
   "cell_type": "markdown",
   "metadata": {},
   "source": [
    "Identifying and encoding the categorical feature set and storing the details of encoding in label_encoders dictionary (for future encoding)."
   ]
  },
  {
   "cell_type": "code",
   "execution_count": 19,
   "metadata": {},
   "outputs": [],
   "source": [
    "categorical_cols = X.select_dtypes(include=['object']).columns\n",
    "\n",
    "\n",
    "label_encoders = {}\n",
    "for col in categorical_cols:\n",
    "    if X[col].nunique() == 2:\n",
    "        le = LabelEncoder()\n",
    "        X[col] = le.fit_transform(X[col])\n",
    "        label_encoders[col] = le"
   ]
  },
  {
   "cell_type": "markdown",
   "metadata": {},
   "source": [
    "Defining the encoding method for further simplicity for the algorith to learn."
   ]
  },
  {
   "cell_type": "code",
   "execution_count": 20,
   "metadata": {},
   "outputs": [],
   "source": [
    "ohe = ColumnTransformer(\n",
    "    transformers=[\n",
    "        ('onehot', OneHotEncoder(handle_unknown='ignore', sparse_output=False), \n",
    "         [col for col in categorical_cols if col not in label_encoders])\n",
    "    ],\n",
    "    remainder='passthrough'\n",
    ")"
   ]
  },
  {
   "cell_type": "markdown",
   "metadata": {},
   "source": [
    "Splitting the whole dataset into training, testing and validation datasets"
   ]
  },
  {
   "cell_type": "code",
   "execution_count": 21,
   "metadata": {},
   "outputs": [],
   "source": [
    "X_train, X_temp, y_train, y_temp = train_test_split(X, y, test_size=0.3, random_state=42)\n",
    "X_test, X_valid, y_test, y_valid = train_test_split(X_temp, y_temp, test_size=0.5, random_state=42)"
   ]
  },
  {
   "cell_type": "markdown",
   "metadata": {},
   "source": [
    "Defining the pipeline structure. Here we are using XGBoost Classifier as the model and the previously defined onehotencoder as preprocessor."
   ]
  },
  {
   "cell_type": "code",
   "execution_count": 22,
   "metadata": {},
   "outputs": [],
   "source": [
    "xgb_model = xgb.XGBClassifier(eval_metric='logloss')\n",
    "\n",
    "pipeline = Pipeline([\n",
    "    ('preprocessor', ohe),\n",
    "    ('classifier', xgb_model)\n",
    "])"
   ]
  },
  {
   "cell_type": "markdown",
   "metadata": {},
   "source": [
    "Defining the parameter grid and defining Randomized Search to find the best parameters for the classifier for this specific dataset."
   ]
  },
  {
   "cell_type": "code",
   "execution_count": 23,
   "metadata": {},
   "outputs": [],
   "source": [
    "param_xgb = {\n",
    "    'classifier__n_estimators': [100, 200, 300],\n",
    "    'classifier__max_depth': [3, 5, 7],\n",
    "    'classifier__learning_rate': [0.01, 0.1, 0.2],\n",
    "    'classifier__subsample': [0.7, 0.8, 0.9],\n",
    "    'classifier__colsample_bytree': [0.7, 0.8, 0.9],\n",
    "    'classifier__gamma': [0, 0.1, 0.2]\n",
    "}\n",
    "\n",
    "search = RandomizedSearchCV(\n",
    "    pipeline, param_xgb, n_iter=50, \n",
    "    cv=5, scoring='accuracy', verbose=1, \n",
    "    n_jobs=-1, random_state=42\n",
    ")"
   ]
  },
  {
   "cell_type": "markdown",
   "metadata": {},
   "source": [
    "Fitting the search model with the data and finding the best parameters."
   ]
  },
  {
   "cell_type": "code",
   "execution_count": 24,
   "metadata": {},
   "outputs": [
    {
     "name": "stdout",
     "output_type": "stream",
     "text": [
      "Fitting 5 folds for each of 50 candidates, totalling 250 fits\n",
      "Best Parameters: {'classifier__subsample': 0.7, 'classifier__n_estimators': 100, 'classifier__max_depth': 5, 'classifier__learning_rate': 0.2, 'classifier__gamma': 0.2, 'classifier__colsample_bytree': 0.8}\n",
      "Validation Accuracy: 0.9905284147557328\n"
     ]
    }
   ],
   "source": [
    "search.fit(X_train, y_train)\n",
    "\n",
    "best_params = search.best_params_\n",
    "print(\"Best Parameters:\", best_params)\n",
    "\n",
    "val_score = search.score(X_valid, y_valid)\n",
    "print(\"Validation Accuracy:\", val_score)  #Validation Accuracy; to be referred later"
   ]
  },
  {
   "cell_type": "markdown",
   "metadata": {},
   "source": [
    "Now we have the best model's parameters; hence the best model possible. We define it and predict the test values."
   ]
  },
  {
   "cell_type": "code",
   "execution_count": 25,
   "metadata": {},
   "outputs": [
    {
     "name": "stdout",
     "output_type": "stream",
     "text": [
      "Test Accuracy: 0.9902\n"
     ]
    }
   ],
   "source": [
    "best_model = search.best_estimator_\n",
    "\n",
    "y_pred = best_model.predict(X_test)\n",
    "\n",
    "test_accuracy = accuracy_score(y_test, y_pred)\n",
    "print(f\"Test Accuracy: {test_accuracy:.4f}\")\n"
   ]
  },
  {
   "cell_type": "markdown",
   "metadata": {},
   "source": [
    "Classification report for further understanding of the model accuracy."
   ]
  },
  {
   "cell_type": "code",
   "execution_count": 26,
   "metadata": {},
   "outputs": [
    {
     "name": "stdout",
     "output_type": "stream",
     "text": [
      "              precision    recall  f1-score   support\n",
      "\n",
      "           0       0.99      1.00      0.99     30821\n",
      "           1       1.00      0.75      0.86      1275\n",
      "\n",
      "    accuracy                           0.99     32096\n",
      "   macro avg       0.99      0.88      0.93     32096\n",
      "weighted avg       0.99      0.99      0.99     32096\n",
      "\n"
     ]
    }
   ],
   "source": [
    "from sklearn.metrics import classification_report\n",
    "\n",
    "print(classification_report(y_test, y_pred))"
   ]
  },
  {
   "cell_type": "markdown",
   "metadata": {},
   "source": [
    "Here, we notice a significant issue of class imbalance. In the test data, there are only 961 instances of the minority class (1 → cancer), whereas the majority class has 31,135 instances. The misclassification rate for cancer cases (predicting 0 instead of 1) is 75%, which is a major concern, as it means 25% of cancer patients were misdiagnosed as non-cancer patients. This significantly reduces the reliability of the 99% accuracy score, making it less meaningful.\n",
    "\n",
    "To address this, we apply class imbalance rectification techniques such as ADASYN or SMOTE, selecting the one that provides the best performance (later in the TensorFlow model)."
   ]
  },
  {
   "cell_type": "markdown",
   "metadata": {},
   "source": [
    "Pickling the model for future use."
   ]
  },
  {
   "cell_type": "code",
   "execution_count": 27,
   "metadata": {},
   "outputs": [],
   "source": [
    "import pickle\n",
    "\n",
    "# with open(\"xgboost_model.pkl\", \"wb\") as file:       #Uncomment to get the pickle model.\n",
    "#     pickle.dump(best_model, file)\n"
   ]
  },
  {
   "cell_type": "markdown",
   "metadata": {},
   "source": [
    "Code in case the pickle model is to be retrieved. The model is accessed from the pickle using the variable 'loaded_model'."
   ]
  },
  {
   "cell_type": "code",
   "execution_count": 28,
   "metadata": {},
   "outputs": [],
   "source": [
    "with open(\"xgboost_model.pkl\", \"rb\") as file:\n",
    "    loaded_model = pickle.load(file)"
   ]
  },
  {
   "cell_type": "markdown",
   "metadata": {},
   "source": [
    "## <center><b>Tensorflow</b></center>"
   ]
  },
  {
   "cell_type": "markdown",
   "metadata": {},
   "source": [
    "Now we implement the concept of neural networks in tensorflow to build another model (and try to get better accuracy metrics!)."
   ]
  },
  {
   "cell_type": "markdown",
   "metadata": {},
   "source": [
    "Necessary imports"
   ]
  },
  {
   "cell_type": "code",
   "execution_count": 29,
   "metadata": {},
   "outputs": [],
   "source": [
    "import tensorflow as tf\n",
    "from tensorflow import keras\n",
    "from tensorflow.keras import layers\n",
    "from sklearn.model_selection import train_test_split\n",
    "from sklearn.preprocessing import StandardScaler, OneHotEncoder\n",
    "from sklearn.compose import ColumnTransformer\n",
    "import numpy as np\n",
    "from imblearn.over_sampling import SMOTE\n",
    "from sklearn.metrics import classification_report, confusion_matrix\n",
    "import matplotlib.pyplot as plt\n",
    "import seaborn as sns"
   ]
  },
  {
   "cell_type": "markdown",
   "metadata": {},
   "source": [
    "Printting the dataset(This is the cleaned version, so we won't go through the cleaning process again.)"
   ]
  },
  {
   "cell_type": "code",
   "execution_count": 30,
   "metadata": {},
   "outputs": [
    {
     "data": {
      "text/html": [
       "<div>\n",
       "<style scoped>\n",
       "    .dataframe tbody tr th:only-of-type {\n",
       "        vertical-align: middle;\n",
       "    }\n",
       "\n",
       "    .dataframe tbody tr th {\n",
       "        vertical-align: top;\n",
       "    }\n",
       "\n",
       "    .dataframe thead th {\n",
       "        text-align: right;\n",
       "    }\n",
       "</style>\n",
       "<table border=\"1\" class=\"dataframe\">\n",
       "  <thead>\n",
       "    <tr style=\"text-align: right;\">\n",
       "      <th></th>\n",
       "      <th>Age</th>\n",
       "      <th>Gender</th>\n",
       "      <th>Smoker</th>\n",
       "      <th>Years_of_Smoking</th>\n",
       "      <th>Cigarettes_per_Day</th>\n",
       "      <th>Passive_Smoker</th>\n",
       "      <th>Family_History</th>\n",
       "      <th>Lung_Cancer_Diagnosis</th>\n",
       "      <th>Air_Pollution_Exposure</th>\n",
       "      <th>Occupational_Exposure</th>\n",
       "      <th>Indoor_Pollution</th>\n",
       "      <th>Healthcare_Access</th>\n",
       "      <th>Early_Detection</th>\n",
       "      <th>Treatment_Type</th>\n",
       "    </tr>\n",
       "  </thead>\n",
       "  <tbody>\n",
       "    <tr>\n",
       "      <th>0</th>\n",
       "      <td>80</td>\n",
       "      <td>Male</td>\n",
       "      <td>Yes</td>\n",
       "      <td>30</td>\n",
       "      <td>29</td>\n",
       "      <td>No</td>\n",
       "      <td>No</td>\n",
       "      <td>No</td>\n",
       "      <td>Low</td>\n",
       "      <td>Yes</td>\n",
       "      <td>No</td>\n",
       "      <td>Poor</td>\n",
       "      <td>No</td>\n",
       "      <td>None</td>\n",
       "    </tr>\n",
       "    <tr>\n",
       "      <th>1</th>\n",
       "      <td>53</td>\n",
       "      <td>Male</td>\n",
       "      <td>No</td>\n",
       "      <td>0</td>\n",
       "      <td>0</td>\n",
       "      <td>Yes</td>\n",
       "      <td>No</td>\n",
       "      <td>No</td>\n",
       "      <td>Low</td>\n",
       "      <td>Yes</td>\n",
       "      <td>No</td>\n",
       "      <td>Poor</td>\n",
       "      <td>No</td>\n",
       "      <td>None</td>\n",
       "    </tr>\n",
       "    <tr>\n",
       "      <th>2</th>\n",
       "      <td>47</td>\n",
       "      <td>Male</td>\n",
       "      <td>Yes</td>\n",
       "      <td>12</td>\n",
       "      <td>6</td>\n",
       "      <td>Yes</td>\n",
       "      <td>No</td>\n",
       "      <td>No</td>\n",
       "      <td>Medium</td>\n",
       "      <td>No</td>\n",
       "      <td>No</td>\n",
       "      <td>Poor</td>\n",
       "      <td>Yes</td>\n",
       "      <td>None</td>\n",
       "    </tr>\n",
       "    <tr>\n",
       "      <th>3</th>\n",
       "      <td>39</td>\n",
       "      <td>Female</td>\n",
       "      <td>No</td>\n",
       "      <td>0</td>\n",
       "      <td>0</td>\n",
       "      <td>No</td>\n",
       "      <td>Yes</td>\n",
       "      <td>No</td>\n",
       "      <td>Low</td>\n",
       "      <td>No</td>\n",
       "      <td>No</td>\n",
       "      <td>Poor</td>\n",
       "      <td>No</td>\n",
       "      <td>None</td>\n",
       "    </tr>\n",
       "    <tr>\n",
       "      <th>4</th>\n",
       "      <td>44</td>\n",
       "      <td>Female</td>\n",
       "      <td>No</td>\n",
       "      <td>0</td>\n",
       "      <td>0</td>\n",
       "      <td>Yes</td>\n",
       "      <td>No</td>\n",
       "      <td>No</td>\n",
       "      <td>Medium</td>\n",
       "      <td>Yes</td>\n",
       "      <td>No</td>\n",
       "      <td>Poor</td>\n",
       "      <td>No</td>\n",
       "      <td>None</td>\n",
       "    </tr>\n",
       "    <tr>\n",
       "      <th>...</th>\n",
       "      <td>...</td>\n",
       "      <td>...</td>\n",
       "      <td>...</td>\n",
       "      <td>...</td>\n",
       "      <td>...</td>\n",
       "      <td>...</td>\n",
       "      <td>...</td>\n",
       "      <td>...</td>\n",
       "      <td>...</td>\n",
       "      <td>...</td>\n",
       "      <td>...</td>\n",
       "      <td>...</td>\n",
       "      <td>...</td>\n",
       "      <td>...</td>\n",
       "    </tr>\n",
       "    <tr>\n",
       "      <th>220627</th>\n",
       "      <td>55</td>\n",
       "      <td>Male</td>\n",
       "      <td>Yes</td>\n",
       "      <td>4</td>\n",
       "      <td>10</td>\n",
       "      <td>No</td>\n",
       "      <td>Yes</td>\n",
       "      <td>No</td>\n",
       "      <td>Medium</td>\n",
       "      <td>No</td>\n",
       "      <td>No</td>\n",
       "      <td>Poor</td>\n",
       "      <td>Yes</td>\n",
       "      <td>None</td>\n",
       "    </tr>\n",
       "    <tr>\n",
       "      <th>220628</th>\n",
       "      <td>66</td>\n",
       "      <td>Male</td>\n",
       "      <td>No</td>\n",
       "      <td>0</td>\n",
       "      <td>0</td>\n",
       "      <td>No</td>\n",
       "      <td>No</td>\n",
       "      <td>No</td>\n",
       "      <td>High</td>\n",
       "      <td>No</td>\n",
       "      <td>No</td>\n",
       "      <td>Poor</td>\n",
       "      <td>No</td>\n",
       "      <td>None</td>\n",
       "    </tr>\n",
       "    <tr>\n",
       "      <th>220629</th>\n",
       "      <td>46</td>\n",
       "      <td>Male</td>\n",
       "      <td>No</td>\n",
       "      <td>0</td>\n",
       "      <td>0</td>\n",
       "      <td>No</td>\n",
       "      <td>No</td>\n",
       "      <td>No</td>\n",
       "      <td>Medium</td>\n",
       "      <td>No</td>\n",
       "      <td>No</td>\n",
       "      <td>Poor</td>\n",
       "      <td>No</td>\n",
       "      <td>None</td>\n",
       "    </tr>\n",
       "    <tr>\n",
       "      <th>220630</th>\n",
       "      <td>36</td>\n",
       "      <td>Male</td>\n",
       "      <td>No</td>\n",
       "      <td>0</td>\n",
       "      <td>0</td>\n",
       "      <td>Yes</td>\n",
       "      <td>Yes</td>\n",
       "      <td>No</td>\n",
       "      <td>High</td>\n",
       "      <td>No</td>\n",
       "      <td>No</td>\n",
       "      <td>Poor</td>\n",
       "      <td>No</td>\n",
       "      <td>None</td>\n",
       "    </tr>\n",
       "    <tr>\n",
       "      <th>220631</th>\n",
       "      <td>60</td>\n",
       "      <td>Female</td>\n",
       "      <td>No</td>\n",
       "      <td>0</td>\n",
       "      <td>0</td>\n",
       "      <td>No</td>\n",
       "      <td>No</td>\n",
       "      <td>No</td>\n",
       "      <td>Medium</td>\n",
       "      <td>No</td>\n",
       "      <td>Yes</td>\n",
       "      <td>Good</td>\n",
       "      <td>No</td>\n",
       "      <td>None</td>\n",
       "    </tr>\n",
       "  </tbody>\n",
       "</table>\n",
       "<p>213972 rows × 14 columns</p>\n",
       "</div>"
      ],
      "text/plain": [
       "        Age  Gender Smoker  Years_of_Smoking  Cigarettes_per_Day  \\\n",
       "0        80    Male    Yes                30                  29   \n",
       "1        53    Male     No                 0                   0   \n",
       "2        47    Male    Yes                12                   6   \n",
       "3        39  Female     No                 0                   0   \n",
       "4        44  Female     No                 0                   0   \n",
       "...     ...     ...    ...               ...                 ...   \n",
       "220627   55    Male    Yes                 4                  10   \n",
       "220628   66    Male     No                 0                   0   \n",
       "220629   46    Male     No                 0                   0   \n",
       "220630   36    Male     No                 0                   0   \n",
       "220631   60  Female     No                 0                   0   \n",
       "\n",
       "       Passive_Smoker Family_History Lung_Cancer_Diagnosis  \\\n",
       "0                  No             No                    No   \n",
       "1                 Yes             No                    No   \n",
       "2                 Yes             No                    No   \n",
       "3                  No            Yes                    No   \n",
       "4                 Yes             No                    No   \n",
       "...               ...            ...                   ...   \n",
       "220627             No            Yes                    No   \n",
       "220628             No             No                    No   \n",
       "220629             No             No                    No   \n",
       "220630            Yes            Yes                    No   \n",
       "220631             No             No                    No   \n",
       "\n",
       "       Air_Pollution_Exposure Occupational_Exposure Indoor_Pollution  \\\n",
       "0                         Low                   Yes               No   \n",
       "1                         Low                   Yes               No   \n",
       "2                      Medium                    No               No   \n",
       "3                         Low                    No               No   \n",
       "4                      Medium                   Yes               No   \n",
       "...                       ...                   ...              ...   \n",
       "220627                 Medium                    No               No   \n",
       "220628                   High                    No               No   \n",
       "220629                 Medium                    No               No   \n",
       "220630                   High                    No               No   \n",
       "220631                 Medium                    No              Yes   \n",
       "\n",
       "       Healthcare_Access Early_Detection Treatment_Type  \n",
       "0                   Poor              No           None  \n",
       "1                   Poor              No           None  \n",
       "2                   Poor             Yes           None  \n",
       "3                   Poor              No           None  \n",
       "4                   Poor              No           None  \n",
       "...                  ...             ...            ...  \n",
       "220627              Poor             Yes           None  \n",
       "220628              Poor              No           None  \n",
       "220629              Poor              No           None  \n",
       "220630              Poor              No           None  \n",
       "220631              Good              No           None  \n",
       "\n",
       "[213972 rows x 14 columns]"
      ]
     },
     "execution_count": 30,
     "metadata": {},
     "output_type": "execute_result"
    }
   ],
   "source": [
    "df"
   ]
  },
  {
   "cell_type": "markdown",
   "metadata": {},
   "source": [
    "Splitting the feature and target sets. Also the target is mapped to integer form."
   ]
  },
  {
   "cell_type": "code",
   "execution_count": 31,
   "metadata": {},
   "outputs": [],
   "source": [
    "y=df['Lung_Cancer_Diagnosis']\n",
    "X=df.drop(columns='Lung_Cancer_Diagnosis')\n",
    "\n",
    "y = y.map({'No': 0, 'Yes': 1})"
   ]
  },
  {
   "cell_type": "markdown",
   "metadata": {},
   "source": [
    "Identifying numeric and categoric columns in the dataset (to preprocess separately)"
   ]
  },
  {
   "cell_type": "code",
   "execution_count": 32,
   "metadata": {},
   "outputs": [],
   "source": [
    "categorical_features = categorical_cols = X.select_dtypes(include=['object']).columns\n",
    "numerical_features = [col for col in X.columns if col not in categorical_features]"
   ]
  },
  {
   "cell_type": "markdown",
   "metadata": {},
   "source": [
    "Defining and fitting the Column Transformer structure."
   ]
  },
  {
   "cell_type": "code",
   "execution_count": 33,
   "metadata": {},
   "outputs": [],
   "source": [
    "preprocessor = ColumnTransformer([\n",
    "    (\"num\", StandardScaler(), numerical_features),\n",
    "    (\"cat\", OneHotEncoder(handle_unknown=\"ignore\"), categorical_features)\n",
    "])\n",
    "\n",
    "X = preprocessor.fit_transform(X)"
   ]
  },
  {
   "cell_type": "markdown",
   "metadata": {},
   "source": [
    "Configuring Tensorflow multithreading for parallel processing."
   ]
  },
  {
   "cell_type": "code",
   "execution_count": 34,
   "metadata": {},
   "outputs": [],
   "source": [
    "tf.config.threading.set_inter_op_parallelism_threads(6)  \n",
    "tf.config.threading.set_intra_op_parallelism_threads(6)"
   ]
  },
  {
   "cell_type": "markdown",
   "metadata": {},
   "source": [
    "Applying SMOTE(for class imbalance)."
   ]
  },
  {
   "cell_type": "code",
   "execution_count": 35,
   "metadata": {},
   "outputs": [],
   "source": [
    "my_smote = SMOTE(sampling_strategy='auto', random_state=42)\n",
    "X_resampled, y_resampled = my_smote.fit_resample(X, y)"
   ]
  },
  {
   "cell_type": "markdown",
   "metadata": {},
   "source": [
    "Splitting the dataset into training, testing and validation sets."
   ]
  },
  {
   "cell_type": "code",
   "execution_count": 36,
   "metadata": {},
   "outputs": [],
   "source": [
    "X_train, X_temp, y_train, y_temp = train_test_split(X_resampled, y_resampled, test_size=0.3, random_state=42)\n",
    "X_val, X_test, y_val, y_test = train_test_split(X_temp, y_temp, test_size=0.5, random_state=42)"
   ]
  },
  {
   "cell_type": "markdown",
   "metadata": {},
   "source": [
    "Converting the target sets into tensorflow tensor format."
   ]
  },
  {
   "cell_type": "code",
   "execution_count": 37,
   "metadata": {},
   "outputs": [],
   "source": [
    "y_train, y_val, y_test = map(lambda y: np.array(y).reshape(-1, 1), [y_train, y_val, y_test])"
   ]
  },
  {
   "cell_type": "markdown",
   "metadata": {},
   "source": [
    "Building the tensorflow model. This model is a MLP(Multilayer Perceptron Model) model and is the best suited for this data."
   ]
  },
  {
   "cell_type": "code",
   "execution_count": 38,
   "metadata": {},
   "outputs": [
    {
     "name": "stdout",
     "output_type": "stream",
     "text": [
      "Epoch 1/50\n"
     ]
    },
    {
     "name": "stderr",
     "output_type": "stream",
     "text": [
      "c:\\Users\\kesav\\anaconda3\\lib\\site-packages\\keras\\src\\layers\\core\\dense.py:87: UserWarning: Do not pass an `input_shape`/`input_dim` argument to a layer. When using Sequential models, prefer using an `Input(shape)` object as the first layer in the model instead.\n",
      "  super().__init__(activity_regularizer=activity_regularizer, **kwargs)\n"
     ]
    },
    {
     "name": "stdout",
     "output_type": "stream",
     "text": [
      "\u001b[1m8990/8990\u001b[0m \u001b[32m━━━━━━━━━━━━━━━━━━━━\u001b[0m\u001b[37m\u001b[0m \u001b[1m10s\u001b[0m 1ms/step - accuracy: 0.8686 - loss: 0.3048 - val_accuracy: 0.8804 - val_loss: 0.2835\n",
      "Epoch 2/50\n",
      "\u001b[1m8990/8990\u001b[0m \u001b[32m━━━━━━━━━━━━━━━━━━━━\u001b[0m\u001b[37m\u001b[0m \u001b[1m9s\u001b[0m 1ms/step - accuracy: 0.8826 - loss: 0.2715 - val_accuracy: 0.8863 - val_loss: 0.2638\n",
      "Epoch 3/50\n",
      "\u001b[1m8990/8990\u001b[0m \u001b[32m━━━━━━━━━━━━━━━━━━━━\u001b[0m\u001b[37m\u001b[0m \u001b[1m9s\u001b[0m 1ms/step - accuracy: 0.8867 - loss: 0.2604 - val_accuracy: 0.8872 - val_loss: 0.2585\n",
      "Epoch 4/50\n",
      "\u001b[1m8990/8990\u001b[0m \u001b[32m━━━━━━━━━━━━━━━━━━━━\u001b[0m\u001b[37m\u001b[0m \u001b[1m9s\u001b[0m 1ms/step - accuracy: 0.8899 - loss: 0.2531 - val_accuracy: 0.8931 - val_loss: 0.2482\n",
      "Epoch 5/50\n",
      "\u001b[1m8990/8990\u001b[0m \u001b[32m━━━━━━━━━━━━━━━━━━━━\u001b[0m\u001b[37m\u001b[0m \u001b[1m9s\u001b[0m 1ms/step - accuracy: 0.8945 - loss: 0.2447 - val_accuracy: 0.8938 - val_loss: 0.2410\n",
      "Epoch 6/50\n",
      "\u001b[1m8990/8990\u001b[0m \u001b[32m━━━━━━━━━━━━━━━━━━━━\u001b[0m\u001b[37m\u001b[0m \u001b[1m9s\u001b[0m 1ms/step - accuracy: 0.8960 - loss: 0.2394 - val_accuracy: 0.8982 - val_loss: 0.2380\n",
      "Epoch 7/50\n",
      "\u001b[1m8990/8990\u001b[0m \u001b[32m━━━━━━━━━━━━━━━━━━━━\u001b[0m\u001b[37m\u001b[0m \u001b[1m9s\u001b[0m 1ms/step - accuracy: 0.8973 - loss: 0.2373 - val_accuracy: 0.8970 - val_loss: 0.2371\n",
      "Epoch 8/50\n",
      "\u001b[1m8990/8990\u001b[0m \u001b[32m━━━━━━━━━━━━━━━━━━━━\u001b[0m\u001b[37m\u001b[0m \u001b[1m9s\u001b[0m 1ms/step - accuracy: 0.9010 - loss: 0.2289 - val_accuracy: 0.9005 - val_loss: 0.2316\n",
      "Epoch 9/50\n",
      "\u001b[1m8990/8990\u001b[0m \u001b[32m━━━━━━━━━━━━━━━━━━━━\u001b[0m\u001b[37m\u001b[0m \u001b[1m9s\u001b[0m 998us/step - accuracy: 0.9045 - loss: 0.2229 - val_accuracy: 0.9013 - val_loss: 0.2305\n",
      "Epoch 10/50\n",
      "\u001b[1m8990/8990\u001b[0m \u001b[32m━━━━━━━━━━━━━━━━━━━━\u001b[0m\u001b[37m\u001b[0m \u001b[1m9s\u001b[0m 1ms/step - accuracy: 0.9052 - loss: 0.2209 - val_accuracy: 0.9026 - val_loss: 0.2249\n",
      "Epoch 11/50\n",
      "\u001b[1m8990/8990\u001b[0m \u001b[32m━━━━━━━━━━━━━━━━━━━━\u001b[0m\u001b[37m\u001b[0m \u001b[1m9s\u001b[0m 1ms/step - accuracy: 0.9048 - loss: 0.2196 - val_accuracy: 0.9064 - val_loss: 0.2203\n",
      "Epoch 12/50\n",
      "\u001b[1m8990/8990\u001b[0m \u001b[32m━━━━━━━━━━━━━━━━━━━━\u001b[0m\u001b[37m\u001b[0m \u001b[1m9s\u001b[0m 1ms/step - accuracy: 0.9083 - loss: 0.2139 - val_accuracy: 0.9079 - val_loss: 0.2160\n",
      "Epoch 13/50\n",
      "\u001b[1m8990/8990\u001b[0m \u001b[32m━━━━━━━━━━━━━━━━━━━━\u001b[0m\u001b[37m\u001b[0m \u001b[1m9s\u001b[0m 1ms/step - accuracy: 0.9083 - loss: 0.2136 - val_accuracy: 0.9076 - val_loss: 0.2151\n",
      "Epoch 14/50\n",
      "\u001b[1m8990/8990\u001b[0m \u001b[32m━━━━━━━━━━━━━━━━━━━━\u001b[0m\u001b[37m\u001b[0m \u001b[1m9s\u001b[0m 1ms/step - accuracy: 0.9089 - loss: 0.2117 - val_accuracy: 0.9081 - val_loss: 0.2137\n",
      "Epoch 15/50\n",
      "\u001b[1m8990/8990\u001b[0m \u001b[32m━━━━━━━━━━━━━━━━━━━━\u001b[0m\u001b[37m\u001b[0m \u001b[1m9s\u001b[0m 1ms/step - accuracy: 0.9103 - loss: 0.2100 - val_accuracy: 0.9090 - val_loss: 0.2128\n",
      "Epoch 16/50\n",
      "\u001b[1m8990/8990\u001b[0m \u001b[32m━━━━━━━━━━━━━━━━━━━━\u001b[0m\u001b[37m\u001b[0m \u001b[1m9s\u001b[0m 1ms/step - accuracy: 0.9114 - loss: 0.2068 - val_accuracy: 0.9113 - val_loss: 0.2109\n",
      "Epoch 17/50\n",
      "\u001b[1m8990/8990\u001b[0m \u001b[32m━━━━━━━━━━━━━━━━━━━━\u001b[0m\u001b[37m\u001b[0m \u001b[1m9s\u001b[0m 1ms/step - accuracy: 0.9121 - loss: 0.2066 - val_accuracy: 0.9110 - val_loss: 0.2075\n",
      "Epoch 18/50\n",
      "\u001b[1m8990/8990\u001b[0m \u001b[32m━━━━━━━━━━━━━━━━━━━━\u001b[0m\u001b[37m\u001b[0m \u001b[1m9s\u001b[0m 1ms/step - accuracy: 0.9131 - loss: 0.2043 - val_accuracy: 0.9124 - val_loss: 0.2055\n",
      "Epoch 19/50\n",
      "\u001b[1m8990/8990\u001b[0m \u001b[32m━━━━━━━━━━━━━━━━━━━━\u001b[0m\u001b[37m\u001b[0m \u001b[1m9s\u001b[0m 1ms/step - accuracy: 0.9144 - loss: 0.2025 - val_accuracy: 0.9111 - val_loss: 0.2063\n",
      "Epoch 20/50\n",
      "\u001b[1m8990/8990\u001b[0m \u001b[32m━━━━━━━━━━━━━━━━━━━━\u001b[0m\u001b[37m\u001b[0m \u001b[1m9s\u001b[0m 1ms/step - accuracy: 0.9135 - loss: 0.2025 - val_accuracy: 0.9074 - val_loss: 0.2224\n",
      "Epoch 21/50\n",
      "\u001b[1m8990/8990\u001b[0m \u001b[32m━━━━━━━━━━━━━━━━━━━━\u001b[0m\u001b[37m\u001b[0m \u001b[1m9s\u001b[0m 1ms/step - accuracy: 0.9149 - loss: 0.2010 - val_accuracy: 0.9125 - val_loss: 0.2088\n",
      "Epoch 22/50\n",
      "\u001b[1m8990/8990\u001b[0m \u001b[32m━━━━━━━━━━━━━━━━━━━━\u001b[0m\u001b[37m\u001b[0m \u001b[1m9s\u001b[0m 1ms/step - accuracy: 0.9157 - loss: 0.1980 - val_accuracy: 0.9130 - val_loss: 0.2049\n",
      "Epoch 23/50\n",
      "\u001b[1m8990/8990\u001b[0m \u001b[32m━━━━━━━━━━━━━━━━━━━━\u001b[0m\u001b[37m\u001b[0m \u001b[1m9s\u001b[0m 1ms/step - accuracy: 0.9165 - loss: 0.1979 - val_accuracy: 0.9141 - val_loss: 0.2005\n",
      "Epoch 24/50\n",
      "\u001b[1m8990/8990\u001b[0m \u001b[32m━━━━━━━━━━━━━━━━━━━━\u001b[0m\u001b[37m\u001b[0m \u001b[1m9s\u001b[0m 1ms/step - accuracy: 0.9165 - loss: 0.1961 - val_accuracy: 0.9141 - val_loss: 0.2008\n",
      "Epoch 25/50\n",
      "\u001b[1m8990/8990\u001b[0m \u001b[32m━━━━━━━━━━━━━━━━━━━━\u001b[0m\u001b[37m\u001b[0m \u001b[1m9s\u001b[0m 1ms/step - accuracy: 0.9180 - loss: 0.1937 - val_accuracy: 0.9151 - val_loss: 0.1997\n",
      "Epoch 26/50\n",
      "\u001b[1m8990/8990\u001b[0m \u001b[32m━━━━━━━━━━━━━━━━━━━━\u001b[0m\u001b[37m\u001b[0m \u001b[1m9s\u001b[0m 1ms/step - accuracy: 0.9166 - loss: 0.1952 - val_accuracy: 0.9124 - val_loss: 0.2052\n",
      "Epoch 27/50\n",
      "\u001b[1m8990/8990\u001b[0m \u001b[32m━━━━━━━━━━━━━━━━━━━━\u001b[0m\u001b[37m\u001b[0m \u001b[1m9s\u001b[0m 1ms/step - accuracy: 0.9182 - loss: 0.1928 - val_accuracy: 0.9144 - val_loss: 0.1989\n",
      "Epoch 28/50\n",
      "\u001b[1m8990/8990\u001b[0m \u001b[32m━━━━━━━━━━━━━━━━━━━━\u001b[0m\u001b[37m\u001b[0m \u001b[1m9s\u001b[0m 1ms/step - accuracy: 0.9189 - loss: 0.1911 - val_accuracy: 0.9160 - val_loss: 0.1982\n",
      "Epoch 29/50\n",
      "\u001b[1m8990/8990\u001b[0m \u001b[32m━━━━━━━━━━━━━━━━━━━━\u001b[0m\u001b[37m\u001b[0m \u001b[1m9s\u001b[0m 1ms/step - accuracy: 0.9183 - loss: 0.1923 - val_accuracy: 0.9168 - val_loss: 0.1962\n",
      "Epoch 30/50\n",
      "\u001b[1m8990/8990\u001b[0m \u001b[32m━━━━━━━━━━━━━━━━━━━━\u001b[0m\u001b[37m\u001b[0m \u001b[1m9s\u001b[0m 1ms/step - accuracy: 0.9189 - loss: 0.1910 - val_accuracy: 0.9180 - val_loss: 0.1944\n",
      "Epoch 31/50\n",
      "\u001b[1m8990/8990\u001b[0m \u001b[32m━━━━━━━━━━━━━━━━━━━━\u001b[0m\u001b[37m\u001b[0m \u001b[1m9s\u001b[0m 1ms/step - accuracy: 0.9181 - loss: 0.1922 - val_accuracy: 0.9164 - val_loss: 0.1977\n",
      "Epoch 32/50\n",
      "\u001b[1m8990/8990\u001b[0m \u001b[32m━━━━━━━━━━━━━━━━━━━━\u001b[0m\u001b[37m\u001b[0m \u001b[1m10s\u001b[0m 1ms/step - accuracy: 0.9195 - loss: 0.1907 - val_accuracy: 0.9192 - val_loss: 0.1926\n",
      "Epoch 33/50\n",
      "\u001b[1m8990/8990\u001b[0m \u001b[32m━━━━━━━━━━━━━━━━━━━━\u001b[0m\u001b[37m\u001b[0m \u001b[1m9s\u001b[0m 1ms/step - accuracy: 0.9206 - loss: 0.1880 - val_accuracy: 0.9167 - val_loss: 0.1953\n",
      "Epoch 34/50\n",
      "\u001b[1m8990/8990\u001b[0m \u001b[32m━━━━━━━━━━━━━━━━━━━━\u001b[0m\u001b[37m\u001b[0m \u001b[1m9s\u001b[0m 1ms/step - accuracy: 0.9204 - loss: 0.1883 - val_accuracy: 0.9199 - val_loss: 0.1907\n",
      "Epoch 35/50\n",
      "\u001b[1m8990/8990\u001b[0m \u001b[32m━━━━━━━━━━━━━━━━━━━━\u001b[0m\u001b[37m\u001b[0m \u001b[1m9s\u001b[0m 1ms/step - accuracy: 0.9198 - loss: 0.1887 - val_accuracy: 0.9197 - val_loss: 0.1903\n",
      "Epoch 36/50\n",
      "\u001b[1m8990/8990\u001b[0m \u001b[32m━━━━━━━━━━━━━━━━━━━━\u001b[0m\u001b[37m\u001b[0m \u001b[1m9s\u001b[0m 1ms/step - accuracy: 0.9212 - loss: 0.1866 - val_accuracy: 0.9177 - val_loss: 0.1933\n",
      "Epoch 37/50\n",
      "\u001b[1m8990/8990\u001b[0m \u001b[32m━━━━━━━━━━━━━━━━━━━━\u001b[0m\u001b[37m\u001b[0m \u001b[1m9s\u001b[0m 1ms/step - accuracy: 0.9211 - loss: 0.1866 - val_accuracy: 0.9154 - val_loss: 0.1999\n",
      "Epoch 38/50\n",
      "\u001b[1m8990/8990\u001b[0m \u001b[32m━━━━━━━━━━━━━━━━━━━━\u001b[0m\u001b[37m\u001b[0m \u001b[1m9s\u001b[0m 1ms/step - accuracy: 0.9207 - loss: 0.1874 - val_accuracy: 0.9190 - val_loss: 0.1921\n",
      "Epoch 39/50\n",
      "\u001b[1m8990/8990\u001b[0m \u001b[32m━━━━━━━━━━━━━━━━━━━━\u001b[0m\u001b[37m\u001b[0m \u001b[1m10s\u001b[0m 1ms/step - accuracy: 0.9206 - loss: 0.1871 - val_accuracy: 0.9177 - val_loss: 0.1927\n",
      "Epoch 40/50\n",
      "\u001b[1m8990/8990\u001b[0m \u001b[32m━━━━━━━━━━━━━━━━━━━━\u001b[0m\u001b[37m\u001b[0m \u001b[1m10s\u001b[0m 1ms/step - accuracy: 0.9219 - loss: 0.1863 - val_accuracy: 0.9197 - val_loss: 0.1900\n",
      "Epoch 41/50\n",
      "\u001b[1m8990/8990\u001b[0m \u001b[32m━━━━━━━━━━━━━━━━━━━━\u001b[0m\u001b[37m\u001b[0m \u001b[1m9s\u001b[0m 1ms/step - accuracy: 0.9210 - loss: 0.1855 - val_accuracy: 0.9188 - val_loss: 0.1928\n",
      "Epoch 42/50\n",
      "\u001b[1m8990/8990\u001b[0m \u001b[32m━━━━━━━━━━━━━━━━━━━━\u001b[0m\u001b[37m\u001b[0m \u001b[1m9s\u001b[0m 1ms/step - accuracy: 0.9217 - loss: 0.1858 - val_accuracy: 0.9162 - val_loss: 0.1972\n",
      "Epoch 43/50\n",
      "\u001b[1m8990/8990\u001b[0m \u001b[32m━━━━━━━━━━━━━━━━━━━━\u001b[0m\u001b[37m\u001b[0m \u001b[1m9s\u001b[0m 1ms/step - accuracy: 0.9231 - loss: 0.1837 - val_accuracy: 0.9057 - val_loss: 0.2133\n",
      "Epoch 44/50\n",
      "\u001b[1m8990/8990\u001b[0m \u001b[32m━━━━━━━━━━━━━━━━━━━━\u001b[0m\u001b[37m\u001b[0m \u001b[1m10s\u001b[0m 1ms/step - accuracy: 0.9230 - loss: 0.1841 - val_accuracy: 0.9191 - val_loss: 0.1926\n",
      "Epoch 45/50\n",
      "\u001b[1m8990/8990\u001b[0m \u001b[32m━━━━━━━━━━━━━━━━━━━━\u001b[0m\u001b[37m\u001b[0m \u001b[1m9s\u001b[0m 1ms/step - accuracy: 0.9216 - loss: 0.1846 - val_accuracy: 0.9211 - val_loss: 0.1868\n",
      "Epoch 46/50\n",
      "\u001b[1m8990/8990\u001b[0m \u001b[32m━━━━━━━━━━━━━━━━━━━━\u001b[0m\u001b[37m\u001b[0m \u001b[1m9s\u001b[0m 1ms/step - accuracy: 0.9230 - loss: 0.1831 - val_accuracy: 0.9197 - val_loss: 0.1924\n",
      "Epoch 47/50\n",
      "\u001b[1m8990/8990\u001b[0m \u001b[32m━━━━━━━━━━━━━━━━━━━━\u001b[0m\u001b[37m\u001b[0m \u001b[1m9s\u001b[0m 1ms/step - accuracy: 0.9230 - loss: 0.1833 - val_accuracy: 0.9204 - val_loss: 0.1867\n",
      "Epoch 48/50\n",
      "\u001b[1m8990/8990\u001b[0m \u001b[32m━━━━━━━━━━━━━━━━━━━━\u001b[0m\u001b[37m\u001b[0m \u001b[1m9s\u001b[0m 1ms/step - accuracy: 0.9230 - loss: 0.1834 - val_accuracy: 0.9204 - val_loss: 0.1868\n",
      "Epoch 49/50\n",
      "\u001b[1m8990/8990\u001b[0m \u001b[32m━━━━━━━━━━━━━━━━━━━━\u001b[0m\u001b[37m\u001b[0m \u001b[1m9s\u001b[0m 1ms/step - accuracy: 0.9238 - loss: 0.1819 - val_accuracy: 0.9189 - val_loss: 0.1918\n",
      "Epoch 50/50\n",
      "\u001b[1m8990/8990\u001b[0m \u001b[32m━━━━━━━━━━━━━━━━━━━━\u001b[0m\u001b[37m\u001b[0m \u001b[1m9s\u001b[0m 1ms/step - accuracy: 0.9238 - loss: 0.1820 - val_accuracy: 0.9141 - val_loss: 0.2029\n"
     ]
    },
    {
     "data": {
      "text/plain": [
       "<keras.src.callbacks.history.History at 0x20582622020>"
      ]
     },
     "execution_count": 38,
     "metadata": {},
     "output_type": "execute_result"
    }
   ],
   "source": [
    "model = keras.Sequential([\n",
    "    layers.Dense(64, activation='relu', input_shape=(X_train.shape[1],)),\n",
    "    layers.Dense(32, activation='relu'),\n",
    "    layers.Dense(1, activation='sigmoid')\n",
    "])\n",
    "\n",
    "model.compile(optimizer='adam', loss='binary_crossentropy', metrics=['accuracy'])\n",
    "model.fit(X_train, y_train, validation_data=(X_val, y_val), epochs=50, batch_size=32)"
   ]
  },
  {
   "cell_type": "markdown",
   "metadata": {},
   "source": [
    "Evaluating the model. Here we tuned the threshold for classification according to the model performance, and found the best threshold value to be 0.325"
   ]
  },
  {
   "cell_type": "code",
   "execution_count": 39,
   "metadata": {},
   "outputs": [
    {
     "name": "stdout",
     "output_type": "stream",
     "text": [
      "\u001b[1m1927/1927\u001b[0m \u001b[32m━━━━━━━━━━━━━━━━━━━━\u001b[0m\u001b[37m\u001b[0m \u001b[1m1s\u001b[0m 402us/step\n",
      "Classification Report:\n",
      "               precision    recall  f1-score   support\n",
      "\n",
      "           0       0.94      0.81      0.87     30727\n",
      "           1       0.84      0.95      0.89     30915\n",
      "\n",
      "    accuracy                           0.88     61642\n",
      "   macro avg       0.89      0.88      0.88     61642\n",
      "weighted avg       0.89      0.88      0.88     61642\n",
      "\n"
     ]
    }
   ],
   "source": [
    "y_pred = (model.predict(X_test) > 0.325).astype(int)\n",
    "print(\"Classification Report:\\n\", classification_report(y_test, y_pred))"
   ]
  },
  {
   "cell_type": "code",
   "execution_count": 40,
   "metadata": {},
   "outputs": [
    {
     "data": {
      "image/png": "[encoded data removed]",
      "text/plain": [
       "<Figure size 600x500 with 2 Axes>"
      ]
     },
     "metadata": {},
     "output_type": "display_data"
    }
   ],
   "source": [
    "cm = confusion_matrix(y_test, y_pred)\n",
    "\n",
    "plt.figure(figsize=(6,5))\n",
    "sns.heatmap(cm, annot=True, fmt='d', cmap='Blues', xticklabels=['No Cancer (0)', 'Cancer (1)'], yticklabels=['No Cancer (0)', 'Cancer (1)'])\n",
    "plt.xlabel('Predicted')\n",
    "plt.ylabel('Actual')\n",
    "plt.title('Confusion Matrix')\n",
    "plt.show()"
   ]
  },
  {
   "cell_type": "markdown",
   "metadata": {},
   "source": [
    "Pickling the model."
   ]
  },
  {
   "cell_type": "code",
   "execution_count": null,
   "metadata": {},
   "outputs": [],
   "source": [
    "# model.save(\"neural_network_model.keras\")  \n"
   ]
  },
  {
   "cell_type": "markdown",
   "metadata": {},
   "source": [
    "Code to read the pickled model (uncomment and run if required)."
   ]
  },
  {
   "cell_type": "code",
   "execution_count": null,
   "metadata": {},
   "outputs": [
    {
     "name": "stderr",
     "output_type": "stream",
     "text": [
      "c:\\Users\\kesav\\anaconda3\\lib\\site-packages\\keras\\src\\saving\\saving_lib.py:757: UserWarning: Skipping variable loading for optimizer 'rmsprop', because it has 8 variables whereas the saved optimizer has 14 variables. \n",
      "  saveable.load_own_variables(weights_store.get(inner_path))\n"
     ]
    }
   ],
   "source": [
    "# from tensorflow.keras.models import load_model\n",
    "\n",
    "# loaded_model = load_model(\"neural_network_model.keras\")  \n"
   ]
  },
  {
   "cell_type": "markdown",
   "metadata": {},
   "source": [
    "## Conclusion"
   ]
  },
  {
   "cell_type": "markdown",
   "metadata": {},
   "source": [
    "From the two models we built, we initially observed a high accuracy score of 99%. However, upon deeper analysis, we identified a significant class imbalance, with more than 95% of the data belonging to the majority class. This imbalance caused the model to overfit to the majority class, leading to poor generalization for the minority class.\n",
    "\n",
    "To address this issue, we implemented SMOTE (Synthetic Minority Over-sampling Technique), a widely used method for handling class imbalance. However, before choosing SMOTE, we considered critical questions, such as whether generating synthetic data was appropriate or ethical for this project and whether alternative methods like ADASYN or undersampling would be more suitable.\n",
    "\n",
    "In our case, the target variable was 0 for no cancer and 1 for cancer, meaning that misclassifying a cancer patient as not having cancer (false negative) would have serious consequences, while the opposite misclassification (false positive) would be less severe.\n",
    "\n",
    "Before applying SMOTE, the model misclassified 25% of cancer cases (1 → 0), while misclassifying only 1% of non-cancer cases (0 → 1). After applying SMOTE, the overall accuracy slightly decreased, but the false negative rate (misclassification of 1 as 0) improved significantly, dropping to 12%. This trade-off was beneficial, as reducing false negatives was our primary objective."
   ]
  },
  {
   "cell_type": "markdown",
   "metadata": {},
   "source": [
    "## Alternative Techniques Considered  \n",
    "Aside from SMOTE, we explored other resampling techniques:  \n",
    "\n",
    "- **ADASYN (Adaptive Synthetic Sampling):** This method generates synthetic samples more aggressively for harder-to-learn minority class instances. However, we found that it introduced noise and did not consistently improve recall.  \n",
    "- **Undersampling:** While reducing the majority class could balance the dataset, it would also lead to loss of valuable data, which was not ideal for this problem.  \n",
    "\n",
    "Given these considerations, **SMOTE was chosen as the best approach for handling class imbalance in this project**.  \n",
    "\n",
    "## Neural Network vs. XGBoost Performance  \n",
    "Both **a neural network (MLP)** and **XGBoost** were trained on the dataset, but the neural network handled class imbalance better. While XGBoost achieved high accuracy, it still struggled with recall for the minority class, even after resampling. The neural network, on the other hand, showed improved recall, likely due to its ability to learn more complex patterns.  \n",
    "\n",
    "## Threshold Adjustment for Improved Recall  \n",
    "We also experimented with **adjusting the decision threshold** from the default 0.5 to lower values (e.g., 0.35, 0.3). This helped shift the balance towards capturing more positive cases, **further reducing false negatives**.  \n",
    "\n",
    "## Confusion Matrix Insights  \n",
    "By analyzing the **confusion matrix**, we confirmed that the model's performance **improved significantly in identifying cancer cases** after applying **SMOTE** and adjusting the **threshold**. The trade-off was a slight increase in false positives, which was acceptable given the **high cost of false negatives** in a medical setting.  \n",
    "\n",
    "## Final Recommendation  \n",
    "For real-world deployment, the **neural network (MLP) trained with SMOTE and an optimized decision threshold** would be the best choice, as it effectively balances **precision and recall**. While the overall accuracy slightly dropped, the **significant reduction in false negatives makes it the most reliable option for cancer/medical diagnosis**.  \n"
   ]
  }
 ],
 "metadata": {
  "kernelspec": {
   "display_name": "base",
   "language": "python",
   "name": "python3"
  },
  "language_info": {
   "codemirror_mode": {
    "name": "ipython",
    "version": 3
   },
   "file_extension": ".py",
   "mimetype": "text/x-python",
   "name": "python",
   "nbconvert_exporter": "python",
   "pygments_lexer": "ipython3",
   "version": "3.10.16"
  }
 },
 "nbformat": 4,
 "nbformat_minor": 2
}
